{
 "cells": [
  {
   "cell_type": "markdown",
   "id": "739ae96a-5199-4893-bbd8-cb6f9f3d7d3d",
   "metadata": {},
   "source": [
    "# Pokemon dataset preprocessing"
   ]
  },
  {
   "cell_type": "code",
   "execution_count": null,
   "id": "d40381c0-f4c2-441a-b6f0-1c48d5cf557a",
   "metadata": {},
   "outputs": [],
   "source": [
    "# import library\n",
    "import pandas as pd"
   ]
  },
  {
   "cell_type": "code",
   "execution_count": null,
   "id": "4d9e6e82-8832-4eeb-b3f0-c7364e5c9e5c",
   "metadata": {},
   "outputs": [],
   "source": [
    "# load dataset\n",
    "df = pd.read_csv('./pokemon.csv')"
   ]
  },
  {
   "cell_type": "code",
   "execution_count": null,
   "id": "a34b2376-964d-481a-8c07-46f7c72f323e",
   "metadata": {},
   "outputs": [],
   "source": [
    "# fix typo\n",
    "df = df.rename(columns={'classfication': 'classification'})"
   ]
  },
  {
   "cell_type": "code",
   "execution_count": null,
   "id": "75801f9e-d628-4ecd-b96c-606a9bd5e5c2",
   "metadata": {},
   "outputs": [],
   "source": [
    "# remove unnecessary words\n",
    "b = df.classification\n",
    "\n",
    "c = []\n",
    "for i in b:\n",
    "    i = i.replace(' Pokémon', '')\n",
    "    c.append(i)\n",
    "    \n",
    "df.classification = c"
   ]
  },
  {
   "cell_type": "code",
   "execution_count": null,
   "id": "096d77b0-8eea-4a69-97d0-e86c6652435f",
   "metadata": {
    "tags": []
   },
   "outputs": [],
   "source": [
    "# basic info\n",
    "basic = df[['pokedex_number','name','height_m','weight_kg','classification']]\n",
    "\n",
    "# stats info\n",
    "stats = df[['pokedex_number','hp','attack','defense','sp_attack','sp_defense','speed']]\n",
    "\n",
    "# coefficients for different types of move\n",
    "against = pd.concat((df.pokedex_number, df.iloc[:,1:19]), axis=1)\n",
    "\n",
    "# other info\n",
    "other = df[['pokedex_number','experience_growth','capture_rate','percentage_male',\n",
    "            'base_egg_steps','base_happiness','generation','is_legendary']]"
   ]
  },
  {
   "cell_type": "code",
   "execution_count": null,
   "id": "0968b67c-82f6-4c18-b450-0b8cd887ee9f",
   "metadata": {},
   "outputs": [],
   "source": [
    "# add id columns to the tables\n",
    "basic = pd.concat((pd.Series(range(1, len(basic)+1), name='id'), basic), axis=1)\n",
    "stats = pd.concat((pd.Series(range(1, len(stats)+1), name='id'), stats), axis=1)\n",
    "against = pd.concat((pd.Series(range(1, len(against)+1), name='id'), against), axis=1)\n",
    "other = pd.concat((pd.Series(range(1, len(other)+1), name='id'), other), axis=1)"
   ]
  },
  {
   "cell_type": "code",
   "execution_count": null,
   "id": "4a48adae-6d11-449d-a3f1-3e72b6ba1aa8",
   "metadata": {
    "tags": []
   },
   "outputs": [],
   "source": [
    "# remove unnecessary characters\n",
    "x = df.abilities\n",
    "y = []\n",
    "for i in x:\n",
    "    i = i.replace('[', '')\n",
    "    i = i.replace(']', '')\n",
    "    i = i.replace(\"'\", '')\n",
    "    y.append(i)\n",
    "\n",
    "# convert it to a pd.Series\n",
    "z = pd.Series(y)\n",
    "\n",
    "# split the strings and expand to columns\n",
    "abilities = z.str.split(pat=', ', expand=True)\n",
    "\n",
    "# create a list of column names for expanded columns\n",
    "abilities_columns = []\n",
    "for i in range(1, 7):\n",
    "    abilities_columns.append(f'abilities_{i}')\n",
    "\n",
    "# rename column names\n",
    "abilities.columns = abilities_columns\n",
    "\n",
    "# flatten it to 1-dimension\n",
    "ab = []\n",
    "pokedex = []\n",
    "for i in range(801):\n",
    "    for j in range(6):\n",
    "        pokedex.append(i+1)\n",
    "        ab.append(abilities.loc[i][j])\n",
    "        \n",
    "# create a dict\n",
    "dic = {\n",
    "    'pokedex_number': pokedex,\n",
    "    'abilities': ab\n",
    "}\n",
    "\n",
    "# convert the dict to df\n",
    "abilities = pd.DataFrame(dic)\n",
    "\n",
    "# drop all rows with NaN\n",
    "abilities = abilities.dropna()\n",
    "\n",
    "# reassign index\n",
    "abilities.index = range(len(abilities))\n",
    "\n",
    "# add id column\n",
    "abilities = pd.concat((pd.Series(range(1, len(abilities)+1), name='id'), abilities), axis=1)"
   ]
  },
  {
   "cell_type": "code",
   "execution_count": null,
   "id": "ec50d4a6-a116-483f-91e2-50f50eab17aa",
   "metadata": {
    "tags": []
   },
   "outputs": [],
   "source": [
    "# flatten type columns\n",
    "type = df[['type1','type2']]\n",
    "\n",
    "t = []\n",
    "pokedex = []\n",
    "for i in range(801):\n",
    "    for j in range(2):\n",
    "        pokedex.append(i+1)\n",
    "        t.append(type.loc[i][j])\n",
    "        \n",
    "# create a dict\n",
    "dic = {\n",
    "    'pokedex_number': pokedex,\n",
    "    'type': t\n",
    "}\n",
    "\n",
    "# convert the dict to df\n",
    "type = pd.DataFrame(dic)\n",
    "\n",
    "# drop all rows with NaN\n",
    "type = type.dropna()\n",
    "\n",
    "# reassign index\n",
    "type.index = range(len(type))\n",
    "\n",
    "# add id column\n",
    "type = pd.concat((pd.Series(range(1, len(type)+1), name='id'), type), axis=1)"
   ]
  },
  {
   "cell_type": "code",
   "execution_count": null,
   "id": "887f1a00-dae6-49cd-a079-99ad428adfe6",
   "metadata": {},
   "outputs": [],
   "source": [
    "# export parts\n",
    "basic.to_csv(path_or_buf='basic.csv', index=False)\n",
    "stats.to_csv(path_or_buf='stats.csv', index=False)\n",
    "against.to_csv(path_or_buf='against.csv', index=False)\n",
    "other.to_csv(path_or_buf='other.csv', index=False)\n",
    "abilities.to_csv(path_or_buf='abilities.csv', index=False)\n",
    "type.to_csv(path_or_buf='type.csv', index=False)"
   ]
  }
 ],
 "metadata": {
  "kernelspec": {
   "display_name": "Python 3 (ipykernel)",
   "language": "python",
   "name": "python3"
  },
  "language_info": {
   "codemirror_mode": {
    "name": "ipython",
    "version": 3
   },
   "file_extension": ".py",
   "mimetype": "text/x-python",
   "name": "python",
   "nbconvert_exporter": "python",
   "pygments_lexer": "ipython3",
   "version": "3.9.7"
  }
 },
 "nbformat": 4,
 "nbformat_minor": 5
}
