{
 "cells": [
  {
   "cell_type": "markdown",
   "id": "a2ed66a0-4ee4-4841-ba10-3834e8bec856",
   "metadata": {},
   "source": [
    "# MySQL exercise w/ Pokemon dataset"
   ]
  },
  {
   "cell_type": "code",
   "execution_count": null,
   "id": "05495135-6583-4545-9e52-40e13e3426ff",
   "metadata": {},
   "outputs": [],
   "source": [
    "# import libaries\n",
    "import pandas as pd\n",
    "import matplotlib.pyplot as plt\n",
    "%matplotlib inline\n",
    "import seaborn as sns\n",
    "sns.set_theme(style='darkgrid')\n",
    "import mysql.connector\n",
    "\n",
    "# connect to MySQL server\n",
    "cnx = mysql.connector.connect(user='root',\n",
    "                              host='127.0.0.1',\n",
    "                              database='pokemon')\n",
    "# create cursor\n",
    "cs = cnx.cursor()"
   ]
  },
  {
   "cell_type": "code",
   "execution_count": null,
   "id": "7a38bb99-c418-4cf3-87d8-579637e2dfc8",
   "metadata": {},
   "outputs": [],
   "source": [
    "# query no.1: the 3 most and 3 least common pokemon types\n",
    "cs.execute('''\n",
    "    WITH cte AS\n",
    "        (SELECT COUNT(DISTINCT pokedex_no) total FROM type)\n",
    "    (SELECT \n",
    "        type, COUNT(type) cnt, ROUND((COUNT(type)/total*100), 1) percentage \n",
    "    FROM type, cte GROUP BY type ORDER BY COUNT(type) DESC LIMIT 3)\n",
    "    UNION\n",
    "    (SELECT type, COUNT(type) cnt, ROUND((COUNT(type)/total*100), 1) percentage FROM type, cte\n",
    "    GROUP BY type ORDER BY COUNT(type) LIMIT 3);\n",
    "''')"
   ]
  },
  {
   "cell_type": "code",
   "execution_count": null,
   "id": "c63e81f3-b49a-45c9-a603-50f17908daf9",
   "metadata": {
    "tags": []
   },
   "outputs": [],
   "source": [
    "# fetch rows and column names\n",
    "q1 = cs.fetchall()\n",
    "q1_col = cs.column_names"
   ]
  },
  {
   "cell_type": "code",
   "execution_count": null,
   "id": "6821b403-fca4-4b4a-9149-34e8ec32e9c9",
   "metadata": {},
   "outputs": [],
   "source": [
    "q1"
   ]
  },
  {
   "cell_type": "code",
   "execution_count": null,
   "id": "2df24c5c-7ba2-42c0-bf04-ff29374ce348",
   "metadata": {
    "tags": []
   },
   "outputs": [],
   "source": [
    "# visualize as dataframe\n",
    "q1_df = pd.DataFrame(q1, columns=q1_col)\n",
    "q1_df.type = [i.replace('\\r', '') for i in q1_df.type]\n",
    "q1_df"
   ]
  },
  {
   "cell_type": "code",
   "execution_count": null,
   "id": "1ca491d2-ca6e-4c96-9863-b0a5a0948687",
   "metadata": {},
   "outputs": [],
   "source": [
    "# query no.2: The rarest abilities and their owners\n",
    "cs.execute('''\n",
    "    WITH cte AS (\n",
    "        SELECT a.pokedex_no, name, abilities, COUNT(abilities) cnt\n",
    "            FROM abilities a JOIN basic b \n",
    "            ON a.pokedex_no = b.pokedex_no GROUP BY abilities\n",
    "                    )\n",
    "        SELECT * FROM cte WHERE cnt = (SELECT MIN(cnt) FROM cte)\n",
    "        GROUP BY abilities ORDER BY abilities;\n",
    "''')"
   ]
  },
  {
   "cell_type": "code",
   "execution_count": null,
   "id": "100a4f26-1f2e-49f7-b2a2-aaf219fbeca7",
   "metadata": {
    "tags": []
   },
   "outputs": [],
   "source": [
    "# fetch returned rows and column names thereof\n",
    "q2 = cs.fetchall()\n",
    "q2_col = [i[0] for i in cs.description]"
   ]
  },
  {
   "cell_type": "code",
   "execution_count": null,
   "id": "cbf6d158-199f-4e53-8433-2f208a5a83fa",
   "metadata": {
    "tags": []
   },
   "outputs": [],
   "source": [
    "# visualize as dataframe\n",
    "q2_df = pd.DataFrame(q2, columns=q2_col)\n",
    "q2_df.abilities = [i.replace('\\r', '') for i in q2_df.abilities]\n",
    "q2_df"
   ]
  },
  {
   "cell_type": "code",
   "execution_count": null,
   "id": "6b27820d-fcca-4936-8381-13cfc3ff976e",
   "metadata": {},
   "outputs": [],
   "source": [
    "# query no.3: the strongest pokemon by stats, and make full sentences out of the resutls\n",
    "cs.execute('''\n",
    "    SELECT\n",
    "        CONCAT(\n",
    "            name, ' (No.', high.pokedex_no, ') has the ',\n",
    "            GROUP_CONCAT(description SEPARATOR ' and the '), ' and ',\n",
    "            CASE\n",
    "                WHEN is_legendary = 0 THEN 'is not legendary.'\n",
    "                ELSE 'is legendary.'\n",
    "            END\n",
    "        ) full_description\n",
    "    FROM (\n",
    "        WITH full_stats AS (\n",
    "            SELECT\n",
    "                s.pokedex_no, name, hp, attack, defense, sp_attack, sp_defense, speed,\n",
    "                (attack + defense + sp_attack + sp_defense + speed) sum_of_stats\n",
    "            FROM\n",
    "                stats s JOIN basic b ON s.pokedex_no = b.pokedex_no\n",
    "            )\n",
    "        SELECT\n",
    "            pokedex_no, name, 'highest HP' description\n",
    "        FROM\n",
    "            full_stats WHERE hp = (SELECT MAX(hp) FROM stats)\n",
    "        UNION\n",
    "        SELECT\n",
    "            pokedex_no, name, 'highest attack' description\n",
    "        FROM\n",
    "            full_stats WHERE attack = (SELECT MAX(attack) FROM stats)\n",
    "        UNION\n",
    "        SELECT\n",
    "            pokedex_no, name, 'highest defense' description\n",
    "        FROM\n",
    "            full_stats WHERE defense = (SELECT MAX(defense) FROM stats)\n",
    "        UNION\n",
    "        SELECT\n",
    "            pokedex_no, name, 'highest SP attack' description\n",
    "        FROM\n",
    "            full_stats WHERE sp_attack = (SELECT MAX(sp_attack) FROM stats)\n",
    "        UNION\n",
    "        SELECT\n",
    "            pokedex_no, name, 'highest SP defense' description\n",
    "        FROM\n",
    "            full_stats WHERE sp_defense = (SELECT MAX(sp_defense) FROM stats)\n",
    "        UNION\n",
    "        SELECT\n",
    "            pokedex_no, name, 'highest speed' description\n",
    "        FROM\n",
    "            full_stats WHERE speed = (SELECT MAX(speed) FROM stats)\n",
    "        UNION\n",
    "        SELECT\n",
    "            pokedex_no, name, 'overall highest stats' description\n",
    "        FROM\n",
    "            full_stats WHERE sum_of_stats = (SELECT MAX(sum_of_stats) FROM full_stats)\n",
    "        ) high\n",
    "    JOIN other o ON high.pokedex_no = o.pokedex_no\n",
    "    GROUP BY name ORDER BY name;\n",
    "''')"
   ]
  },
  {
   "cell_type": "code",
   "execution_count": null,
   "id": "bb4cf22c-02a4-4f68-9048-403678c55c19",
   "metadata": {},
   "outputs": [],
   "source": [
    "# fetch all rows\n",
    "q3 = cs.fetchall()"
   ]
  },
  {
   "cell_type": "code",
   "execution_count": null,
   "id": "1444129d-b0aa-46af-a298-23fac8bf7b50",
   "metadata": {},
   "outputs": [],
   "source": [
    "# results\n",
    "q3"
   ]
  },
  {
   "cell_type": "code",
   "execution_count": null,
   "id": "6d61f872-32bd-499b-98d8-71bf6b7ccce3",
   "metadata": {},
   "outputs": [],
   "source": [
    "# query no.4: the most vulnerable pokemon by how they fare against moves of different types\n",
    "cs.execute('''\n",
    "    SELECT ag.pokedex_no, name, (\n",
    "        bug + dark + dragon + electric + fairy +\n",
    "        fight + fire + flying + ghost + grass +\n",
    "        ground + ice + normal + poison + psychic +\n",
    "        rock + steel + water\n",
    "        ) ag_sum\n",
    "    FROM against ag JOIN basic b\n",
    "    ON ag.pokedex_no = b.pokedex_no\n",
    "    ORDER BY ag_sum, pokedex_no;\n",
    "''')"
   ]
  },
  {
   "cell_type": "code",
   "execution_count": null,
   "id": "0a54779a-cfc0-40f3-bbf1-0715c7f415b5",
   "metadata": {},
   "outputs": [],
   "source": [
    "# fetch all returned rows\n",
    "q4 = cs.fetchall()\n",
    "q4_col = [i[0] for i in cs.description]"
   ]
  },
  {
   "cell_type": "code",
   "execution_count": null,
   "id": "0cdf768d-6b83-4546-ae7a-c5474b233a99",
   "metadata": {
    "tags": []
   },
   "outputs": [],
   "source": [
    "q4"
   ]
  },
  {
   "cell_type": "code",
   "execution_count": null,
   "id": "d3e919f9-c1be-4ffa-b642-2fa3ecae80a9",
   "metadata": {},
   "outputs": [],
   "source": [
    "# visualize the result\n",
    "q4_df = pd.DataFrame(q4, columns=q4_col)\n",
    "q4_df"
   ]
  },
  {
   "cell_type": "code",
   "execution_count": null,
   "id": "e4ff3a8b-e132-4069-a857-cf00f883efa3",
   "metadata": {},
   "outputs": [],
   "source": [
    "# create temporary table resulted from query no.4\n",
    "cs.execute('''\n",
    "    CREATE TEMPORARY TABLE ag_sum\n",
    "        SELECT ag.pokedex_no, name, (\n",
    "            bug + dark + dragon + electric + fairy +\n",
    "            fight + fire + flying + ghost + grass +\n",
    "            ground + ice + normal + poison + psychic +\n",
    "            rock + steel + water\n",
    "            ) sum_ag\n",
    "        FROM against ag JOIN basic b\n",
    "        ON ag.pokedex_no = b.pokedex_no\n",
    "        ORDER BY sum_ag, pokedex_no;\n",
    "''')"
   ]
  },
  {
   "cell_type": "code",
   "execution_count": null,
   "id": "d67c7d4e-d813-42cf-b851-3bf893928612",
   "metadata": {
    "tags": []
   },
   "outputs": [],
   "source": [
    "# create a summary that has type, sum of stats, sum of coefficients against moves & abilities\n",
    "cs.execute('''CREATE TEMPORARY TABLE summary\n",
    "    SELECT\n",
    "        tbl1.pokedex_no, name, type, no_of_type,\n",
    "        sum_stats, sum_ag, no_of_abilities, abilities, is_legendary\n",
    "    FROM (\n",
    "        SELECT \n",
    "            s.pokedex_no,\n",
    "            SUM(hp + attack + defense + sp_attack + sp_defense + speed) sum_stats,\n",
    "            sum_ag\n",
    "        FROM stats s \n",
    "        JOIN ag_sum ag ON s.pokedex_no = ag.pokedex_no\n",
    "        GROUP BY pokedex_no\n",
    "    ) tbl1 \n",
    "    JOIN (\n",
    "        SELECT\n",
    "            pokedex_no, \n",
    "            COUNT(abilities) no_of_abilities, \n",
    "            GROUP_CONCAT(abilities SEPARATOR ', ') abilities\n",
    "        FROM abilities ab \n",
    "        GROUP BY pokedex_no\n",
    "    ) tbl2 \n",
    "    ON tbl1.pokedex_no = tbl2.pokedex_no\n",
    "    JOIN (\n",
    "        SELECT \n",
    "            pokedex_no, COUNT(type) no_of_type,\n",
    "            GROUP_CONCAT(type SEPARATOR ', ') type\n",
    "        FROM type \n",
    "        GROUP BY pokedex_no\n",
    "    ) tbl3 \n",
    "    ON tbl1.pokedex_no = tbl3.pokedex_no\n",
    "    JOIN basic b ON tbl1.pokedex_no = b.pokedex_no\n",
    "    JOIN other o ON tbl1.pokedex_no = o.pokedex_no\n",
    "    ORDER by tbl1.pokedex_no;\n",
    "''')"
   ]
  },
  {
   "cell_type": "code",
   "execution_count": null,
   "id": "a966b28e-5a5a-49cd-9ddc-6697bd480c07",
   "metadata": {},
   "outputs": [],
   "source": [
    "# check the created temp table\n",
    "cs.execute('SELECT * FROM summary;')\n",
    "q5 = cs.fetchall()\n",
    "q5_col = [i[0] for i in cs.description]"
   ]
  },
  {
   "cell_type": "code",
   "execution_count": null,
   "id": "5437152e-eefa-4ef1-87ef-2f0e462d72c0",
   "metadata": {
    "tags": []
   },
   "outputs": [],
   "source": [
    "# visualize the results\n",
    "q5_df = pd.DataFrame(q5, columns=q5_col)\n",
    "q5_df.type = [i.replace('\\r', '') for i in q5_df.type]\n",
    "q5_df.abilities = [i.replace('\\r', '') for i in q5_df.abilities]\n",
    "q5_df.sum_stats = q5_df.sum_stats.astype('int64')\n",
    "q5_df.is_legendary = q5_df.is_legendary.astype(bool)\n",
    "q5_df"
   ]
  },
  {
   "cell_type": "markdown",
   "id": "b0b0aaf6-b5ee-44ac-aaa0-9a87f142acda",
   "metadata": {},
   "source": [
    "## Exploratory Data Analysis"
   ]
  },
  {
   "cell_type": "code",
   "execution_count": null,
   "id": "33b5c6a1-e60e-403b-a195-53014726892e",
   "metadata": {},
   "outputs": [],
   "source": [
    "# x: sum_stats\n",
    "# y: sum_ag\n",
    "# z: no_of_abilities\n",
    "# 0: not legendary/single-typed\n",
    "# 1: not legendary/double-typed\n",
    "# 2: is legendary/single-typed\n",
    "# 3: is legendary/double-typed\n",
    "dt = {}\n",
    "for i in ('x', 'y', 'z'):\n",
    "    for j in range(4):    \n",
    "        dt[f'{i}{j}'] = []\n",
    "        \n",
    "for i in q5_df.iloc:\n",
    "    if i.is_legendary == False:\n",
    "        if i.no_of_type == 1:\n",
    "            dt['x0'].append(i.sum_stats)\n",
    "            dt['y0'].append(i.sum_ag)\n",
    "            dt['z0'].append(i.no_of_abilities)\n",
    "        else:\n",
    "            dt['x1'].append(i.sum_stats)\n",
    "            dt['y1'].append(i.sum_ag)\n",
    "            dt['z1'].append(i.no_of_abilities)\n",
    "    else:\n",
    "        if i.no_of_type == 1:\n",
    "            dt['x2'].append(i.sum_stats)\n",
    "            dt['y2'].append(i.sum_ag)\n",
    "            dt['z2'].append(i.no_of_abilities)\n",
    "        else:\n",
    "            dt['x3'].append(i.sum_stats)\n",
    "            dt['y3'].append(i.sum_ag)\n",
    "            dt['z3'].append(i.no_of_abilities)\n",
    "\n",
    "dt['m'] = ['.', 'x', '.', 'x'] # dot: single-typed, x: double-typed\n",
    "dt['c'] = ['c', 'c', 'r', 'r'] # cyan: not legendary, red: legendary\n",
    "dt['l'] = ['1-typed / not legendary',\n",
    "           '2-typed / not legendary',\n",
    "           '1-typed / legendary',\n",
    "           '2-typed / legendary']"
   ]
  },
  {
   "cell_type": "code",
   "execution_count": null,
   "id": "5deff786-4190-48e9-8f1c-573bf8b48849",
   "metadata": {},
   "outputs": [],
   "source": [
    "# 3D scatterplot\n",
    "fig = plt.figure(figsize=(8,8))\n",
    "ax = fig.add_subplot(projection='3d')\n",
    "\n",
    "for i in range(4):\n",
    "    ax.scatter(dt[f'x{i}'], dt[f'y{i}'], dt[f'z{i}'], s=50,\n",
    "               facecolor=dt['c'][i], marker=dt['m'][i], label=dt['l'][i])\n",
    "\n",
    "ax.set_xlabel('sum_stats')\n",
    "ax.set_ylabel('sum_ag')\n",
    "ax.set_zlabel('no_of_abilities')\n",
    "ax.set_title('Relationship between various factors')\n",
    "ax.legend()\n",
    "ax.view_init(10, 315)\n",
    "plt.savefig('poke_3d_plot.png', bbox_inches='tight')\n",
    "plt.show()"
   ]
  },
  {
   "cell_type": "code",
   "execution_count": null,
   "id": "f20e7f69-901e-4a8a-80a7-5b3ad977e929",
   "metadata": {},
   "outputs": [],
   "source": [
    "# end the session\n",
    "cnx.close()"
   ]
  }
 ],
 "metadata": {
  "kernelspec": {
   "display_name": "Python 3 (ipykernel)",
   "language": "python",
   "name": "python3"
  },
  "language_info": {
   "codemirror_mode": {
    "name": "ipython",
    "version": 3
   },
   "file_extension": ".py",
   "mimetype": "text/x-python",
   "name": "python",
   "nbconvert_exporter": "python",
   "pygments_lexer": "ipython3",
   "version": "3.9.7"
  }
 },
 "nbformat": 4,
 "nbformat_minor": 5
}
