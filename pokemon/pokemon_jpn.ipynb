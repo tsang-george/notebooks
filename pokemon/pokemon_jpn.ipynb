{
 "cells": [
  {
   "cell_type": "markdown",
   "id": "20a058d3-f853-4ba3-af87-f94b15c5f4ab",
   "metadata": {},
   "source": [
    "# Splitting the katakana from romaji in Japanese name"
   ]
  },
  {
   "cell_type": "code",
   "execution_count": 1,
   "id": "b6ada16b-e99f-4078-9fff-48307db212a5",
   "metadata": {},
   "outputs": [],
   "source": [
    "# import library\n",
    "import pandas as pd\n",
    "import re"
   ]
  },
  {
   "cell_type": "code",
   "execution_count": 2,
   "id": "cfbfd76a-8704-453e-9c66-f1892cf07fb3",
   "metadata": {},
   "outputs": [],
   "source": [
    "# load dataset\n",
    "df = pd.read_csv('./pokemon.csv')"
   ]
  },
  {
   "cell_type": "code",
   "execution_count": 3,
   "id": "52f1f625-0b80-46d9-903a-3fcc1e0e46e7",
   "metadata": {},
   "outputs": [],
   "source": [
    "# excerpt the column\n",
    "jpn = df.japanese_name"
   ]
  },
  {
   "cell_type": "code",
   "execution_count": 4,
   "id": "fe341aa3-7e9f-42ea-b183-77d74f34835c",
   "metadata": {
    "tags": []
   },
   "outputs": [],
   "source": [
    "# select japanese character substrings\n",
    "jpn_1 = []\n",
    "for i in jpn:\n",
    "    jpn_1.append(re.split('[a-zA-Z]+', i))\n",
    "    \n",
    "jpn_2 = []\n",
    "for i in jpn_1:\n",
    "    jpn_2.append(i[-1])\n",
    "    \n",
    "katakana = []\n",
    "for i in jpn_2:\n",
    "    if re.match('\\W', i):\n",
    "        i = i[1:]\n",
    "        katakana.append(i)\n",
    "    else:\n",
    "        katakana.append(i)"
   ]
  },
  {
   "cell_type": "code",
   "execution_count": 5,
   "id": "18a4c49d-5e12-4bdf-9563-69e26d09abe8",
   "metadata": {
    "tags": []
   },
   "outputs": [],
   "source": [
    "# remove the japanese character substrings = romaji\n",
    "romaji = []\n",
    "for i in range(len(jpn)):\n",
    "    romaji.append(jpn[i].replace(katakana[i], ''))"
   ]
  },
  {
   "cell_type": "code",
   "execution_count": 6,
   "id": "424f7262-6a17-49be-97b3-bcae69113777",
   "metadata": {},
   "outputs": [],
   "source": [
    "# combine the 2 lists to be a dataframe\n",
    "dic = {\n",
    "    'id': [i for i in range(1, len(df)+1)],\n",
    "    'pokedex_no': df.pokedex_number,\n",
    "    'katakana': katakana,\n",
    "    'romaji': romaji\n",
    "}\n",
    "\n",
    "df = pd.DataFrame(dic)\n",
    "\n",
    "# export as csv\n",
    "df.to_csv(path_or_buf='jpn_name.csv', index=False)"
   ]
  },
  {
   "cell_type": "code",
   "execution_count": 7,
   "id": "1258c997-a8b0-4371-b0cd-eed3fa02fcca",
   "metadata": {},
   "outputs": [
    {
     "data": {
      "text/html": [
       "<div>\n",
       "<style scoped>\n",
       "    .dataframe tbody tr th:only-of-type {\n",
       "        vertical-align: middle;\n",
       "    }\n",
       "\n",
       "    .dataframe tbody tr th {\n",
       "        vertical-align: top;\n",
       "    }\n",
       "\n",
       "    .dataframe thead th {\n",
       "        text-align: right;\n",
       "    }\n",
       "</style>\n",
       "<table border=\"1\" class=\"dataframe\">\n",
       "  <thead>\n",
       "    <tr style=\"text-align: right;\">\n",
       "      <th></th>\n",
       "      <th>id</th>\n",
       "      <th>pokedex_no</th>\n",
       "      <th>katakana</th>\n",
       "      <th>romaji</th>\n",
       "    </tr>\n",
       "  </thead>\n",
       "  <tbody>\n",
       "    <tr>\n",
       "      <th>0</th>\n",
       "      <td>1</td>\n",
       "      <td>1</td>\n",
       "      <td>フシギダネ</td>\n",
       "      <td>Fushigidane</td>\n",
       "    </tr>\n",
       "    <tr>\n",
       "      <th>1</th>\n",
       "      <td>2</td>\n",
       "      <td>2</td>\n",
       "      <td>フシギソウ</td>\n",
       "      <td>Fushigisou</td>\n",
       "    </tr>\n",
       "    <tr>\n",
       "      <th>2</th>\n",
       "      <td>3</td>\n",
       "      <td>3</td>\n",
       "      <td>フシギバナ</td>\n",
       "      <td>Fushigibana</td>\n",
       "    </tr>\n",
       "    <tr>\n",
       "      <th>3</th>\n",
       "      <td>4</td>\n",
       "      <td>4</td>\n",
       "      <td>ヒトカゲ</td>\n",
       "      <td>Hitokage</td>\n",
       "    </tr>\n",
       "    <tr>\n",
       "      <th>4</th>\n",
       "      <td>5</td>\n",
       "      <td>5</td>\n",
       "      <td>リザード</td>\n",
       "      <td>Lizardo</td>\n",
       "    </tr>\n",
       "  </tbody>\n",
       "</table>\n",
       "</div>"
      ],
      "text/plain": [
       "   id  pokedex_no katakana       romaji\n",
       "0   1           1    フシギダネ  Fushigidane\n",
       "1   2           2    フシギソウ   Fushigisou\n",
       "2   3           3    フシギバナ  Fushigibana\n",
       "3   4           4     ヒトカゲ     Hitokage\n",
       "4   5           5     リザード      Lizardo"
      ]
     },
     "execution_count": 7,
     "metadata": {},
     "output_type": "execute_result"
    }
   ],
   "source": [
    "df.head()"
   ]
  }
 ],
 "metadata": {
  "kernelspec": {
   "display_name": "Python 3 (ipykernel)",
   "language": "python",
   "name": "python3"
  },
  "language_info": {
   "codemirror_mode": {
    "name": "ipython",
    "version": 3
   },
   "file_extension": ".py",
   "mimetype": "text/x-python",
   "name": "python",
   "nbconvert_exporter": "python",
   "pygments_lexer": "ipython3",
   "version": "3.9.7"
  }
 },
 "nbformat": 4,
 "nbformat_minor": 5
}
